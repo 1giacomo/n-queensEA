{
 "cells": [
  {
   "cell_type": "markdown",
   "metadata": {},
   "source": [
    "# N Queens with Evolutionary Algorithm\n",
    "\n",
    "The N Queens problem involves placing N chess queens on an N×N chessboard with no queens attacking each other. This notebook demonstrates an Evolutionary Algorithm's use to efficiently solve this classic problem.\n",
    "\n",
    "## Evolutionary Algorithm Overview\n",
    "\n",
    "1. **Initialization:** Generate an initial population of queen placements.\n",
    "2. **Evaluation:** Assess fitness (number of conflicts) for each solution.\n",
    "3. **Selection:** Choose the fittest individuals as parents.\n",
    "4. **Crossover:** Create offspring by combining parent genetic information.\n",
    "5. **Mutation:** Introduce random changes to maintain diversity.\n",
    "6. **Replacement:** Update the population with new solutions.\n",
    "7. **Termination:** Stop at a satisfactory solution or after a set number of generations.\n"
   ]
  },
  {
   "cell_type": "code",
   "execution_count": 258,
   "metadata": {},
   "outputs": [],
   "source": [
    "import random\n",
    "import matplotlib.pyplot as plt"
   ]
  },
  {
   "cell_type": "code",
   "execution_count": 259,
   "metadata": {},
   "outputs": [],
   "source": [
    "n = 8  # Number of Queens\n",
    "p = 500  # Number of Population\n",
    "\n",
    "current_generation = []  # Current Generation\n",
    "new_generation = []  # New Generation"
   ]
  },
  {
   "cell_type": "code",
   "execution_count": 260,
   "metadata": {},
   "outputs": [],
   "source": [
    "def randomGeneration(NumberOfRows, NumberOfQueens):\n",
    "    generation_list = []\n",
    "    for i in range(NumberOfRows):\n",
    "        gene = []\n",
    "        for j in range(NumberOfQueens):\n",
    "            gene.append(random.randint(1, n))\n",
    "        gene.append(0)\n",
    "        generation_list.append(gene)\n",
    "    return generation_list"
   ]
  },
  {
   "cell_type": "markdown",
   "metadata": {},
   "source": [
    "## Selection\n",
    "\n",
    "Calculate the \"score\" for each generation\n",
    "\n",
    "By calculating the number of conflicts\n",
    "\n",
    "And then sort by lowest num of conflicts\n"
   ]
  },
  {
   "cell_type": "code",
   "execution_count": 261,
   "metadata": {},
   "outputs": [],
   "source": [
    "def fitness(population_list):\n",
    "    i = 0\n",
    "    conflict = 0\n",
    "    while i < len(population_list):\n",
    "        j = 0\n",
    "        conflict = 0\n",
    "        while j < n:\n",
    "            l = j+1\n",
    "\n",
    "            while l < n:\n",
    "                if population_list[i][j] == population_list[i][l]:\n",
    "                    conflict += 1\n",
    "                if abs(j-l) == abs(population_list[i][j]-population_list[i][l]):\n",
    "                    conflict += 1\n",
    "                l += 1\n",
    "            j += 1\n",
    "        population_list[i][len(population_list[j])-1] = conflict\n",
    "        i += 1\n",
    "\n",
    "    for i in range(len(population_list)):\n",
    "        min = i\n",
    "        for j in range(i, len(population_list)):\n",
    "            if population_list[j][n] < population_list[min][n]:\n",
    "                min = j\n",
    "        temp = population_list[i]\n",
    "        population_list[i] = population_list[min]\n",
    "        population_list[min] = temp\n",
    "    return population_list"
   ]
  },
  {
   "cell_type": "markdown",
   "metadata": {},
   "source": [
    "## Crossover correlation\n"
   ]
  },
  {
   "cell_type": "code",
   "execution_count": 262,
   "metadata": {},
   "outputs": [],
   "source": [
    "def cross_over(generation_list):\n",
    "    for i in range(0, len(generation_list), 2):\n",
    "        z = 0\n",
    "        new_kid1 = []\n",
    "        new_kid2 = []\n",
    "        while z < n:\n",
    "            if (z < n//2):\n",
    "                new_kid1.append(generation_list[i][z])\n",
    "                new_kid2.append(generation_list[i+1][z])\n",
    "            else:\n",
    "                new_kid1.append(generation_list[i+1][z])\n",
    "                new_kid2.append(generation_list[i][z])\n",
    "            z += 1\n",
    "        new_kid1.append(0)\n",
    "        new_kid2.append(0)\n",
    "        generation_list.append(new_kid1)\n",
    "        generation_list.append(new_kid2)\n",
    "    return generation_list"
   ]
  },
  {
   "cell_type": "markdown",
   "metadata": {},
   "source": [
    "## Add mutation\n"
   ]
  },
  {
   "cell_type": "code",
   "execution_count": 263,
   "metadata": {},
   "outputs": [],
   "source": [
    "def mutation(generation_list):\n",
    "    muted_list = []\n",
    "    i = 0\n",
    "    while i < p//2:\n",
    "        new_rand = random.randint(p//2, p-1)\n",
    "        if new_rand not in muted_list:\n",
    "            muted_list.append(new_rand)\n",
    "            generation_list[new_rand][random.randint(\n",
    "                0, n-1)] = random.randint(1, n-1)\n",
    "            # print(\"Muted:\",new_rand)\n",
    "            i += 1\n",
    "    return generation_list"
   ]
  },
  {
   "cell_type": "code",
   "execution_count": 264,
   "metadata": {},
   "outputs": [],
   "source": [
    "def showRes(res):\n",
    "    l = len(res)\n",
    "    plt.figure(figsize=(6, 6))\n",
    "    plt.scatter([x+1 for x in range(l - 1)], res[:l - 1])\n",
    "    for i in range(l):\n",
    "        plt.plot([0.5, l - 0.5], [i + 0.5, i + 0.5], color=\"k\")\n",
    "        plt.plot([i + 0.5, i + 0.5], [0.5, l - 0.5], color=\"k\")"
   ]
  },
  {
   "cell_type": "code",
   "execution_count": 265,
   "metadata": {},
   "outputs": [
    {
     "name": "stdout",
     "output_type": "stream",
     "text": [
      "-------------------------------------------------------\n",
      "Epoch  1\n",
      "Best Solution:  [7, 3, 8, 2, 7, 1, 6, 1, 2]\n",
      "-------------------------------------------------------\n",
      "Epoch  2\n",
      "Best Solution:  [7, 3, 8, 2, 7, 1, 6, 1, 2]\n",
      "-------------------------------------------------------\n",
      "Epoch  3\n",
      "Best Solution:  [1, 7, 2, 8, 6, 4, 3, 5, 1]\n",
      "-------------------------------------------------------\n",
      "Epoch  4\n",
      "Best Solution:  [1, 7, 2, 8, 6, 4, 3, 5, 1]\n",
      "-------------------------------------------------------\n",
      "Epoch  5\n",
      "Best Solution:  [1, 7, 2, 8, 6, 4, 3, 5, 1]\n",
      "-------------------------------------------------------\n",
      "Epoch  6\n",
      "Best Solution:  [1, 7, 2, 8, 6, 4, 3, 5, 1]\n",
      "-------------------------------------------------------\n",
      "Epoch  7\n",
      "Best Solution:  [1, 7, 2, 8, 6, 4, 3, 5, 1]\n",
      "-------------------------------------------------------\n",
      "Epoch  8\n",
      "Best Solution:  [1, 7, 2, 8, 6, 4, 3, 5, 1]\n",
      "-------------------------------------------------------\n",
      "Epoch  9\n",
      "Best Solution:  [1, 7, 2, 8, 6, 4, 3, 5, 1]\n",
      "-------------------------------------------------------\n",
      "Epoch  10\n",
      "Best Solution:  [1, 7, 2, 8, 6, 4, 3, 5, 1]\n",
      "-------------------------------------------------------\n",
      "Epoch  11\n",
      "Best Solution:  [1, 7, 2, 8, 6, 4, 3, 5, 1]\n",
      "-------------------------------------------------------\n",
      "Epoch  12\n",
      "Best Solution:  [1, 7, 2, 8, 6, 4, 3, 5, 1]\n",
      "-------------------------------------------------------\n",
      "Epoch  13\n",
      "Solution Found:  [7, 3, 8, 2, 5, 1, 6, 4, 0]\n"
     ]
    },
    {
     "data": {
      "image/png": "[encoded data removed]",
      "text/plain": [
       "<Figure size 600x600 with 1 Axes>"
      ]
     },
     "metadata": {},
     "output_type": "display_data"
    }
   ],
   "source": [
    "current_generation = randomGeneration(p, n)\n",
    "current_generation = fitness(current_generation)\n",
    "\n",
    "epoch = 1\n",
    "while True:\n",
    "    print(\"-------------------------------------------------------\")\n",
    "    print(\"Epoch \", epoch)\n",
    "\n",
    "    # Take only the best 1/2 generations\n",
    "    current_generation = current_generation[0:p//2]\n",
    "\n",
    "    # And then perform a Genetic Combination\n",
    "    new_generation = cross_over(current_generation)\n",
    "    new_generation = mutation(new_generation)\n",
    "\n",
    "    current_generation = new_generation\n",
    "    current_generation = fitness(current_generation)\n",
    "    if current_generation[0][n] == 0:\n",
    "        print(\"Solution Found: \", current_generation[0])\n",
    "        showRes(current_generation[0])\n",
    "        break\n",
    "    else:\n",
    "        print(\"Best Solution: \", current_generation[0])\n",
    "        # showRes(current_generation[0])\n",
    "    epoch += 1"
   ]
  }
 ],
 "metadata": {
  "kernelspec": {
   "display_name": "Python 3",
   "language": "python",
   "name": "python3"
  },
  "language_info": {
   "codemirror_mode": {
    "name": "ipython",
    "version": 3
   },
   "file_extension": ".py",
   "mimetype": "text/x-python",
   "name": "python",
   "nbconvert_exporter": "python",
   "pygments_lexer": "ipython3",
   "version": "3.7.3"
  }
 },
 "nbformat": 4,
 "nbformat_minor": 2
}
